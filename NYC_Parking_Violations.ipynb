{
 "cells": [
  {
   "cell_type": "markdown",
   "id": "0efd6bb9",
   "metadata": {},
   "source": [
    "## NYC Parking Violations - Detailed Analysis and a Prediction Model"
   ]
  },
  {
   "cell_type": "markdown",
   "id": "bee39fc7",
   "metadata": {},
   "source": [
    "### Eren Tümkaya - tumkaya19@itu.edu.tr\n"
   ]
  },
  {
   "cell_type": "code",
   "execution_count": 138,
   "id": "d7274938",
   "metadata": {},
   "outputs": [],
   "source": [
    "import requests\n",
    "import pandas as pd\n",
    "from datetime import datetime\n",
    "import matplotlib.pyplot as plt\n",
    "import calendar\n",
    "\n"
   ]
  },
  {
   "cell_type": "markdown",
   "id": "c97dc5a6",
   "metadata": {},
   "source": [
    "### Getting the Data"
   ]
  },
  {
   "cell_type": "markdown",
   "id": "660eca16",
   "metadata": {},
   "source": [
    "New York City has a really nice website where most of its open data can be found easily. I used the relatively new and large dataset \"Parking Violations Issued\". The link to the open data site and to my dataset is [here](https://data.cityofnewyork.us/City-Government/Parking-Violations-Issued-Fiscal-Year-2023/869v-vr48) for anyone interested."
   ]
  },
  {
   "cell_type": "markdown",
   "id": "141783c6",
   "metadata": {},
   "source": [
    "The site lets me access the data in various ways. I prefer to pull it using the \"API\" of the dataset. For that, I read the API document really carefully, checked which columns I will be using and also used paginating to retrieve it.  \n",
    "\n",
    "Paginating is pulling the data in multiple requests instead of one. I used this because I believe it is more suitable for a large dataset.It will potentially help me with avoiding timeouts, problems with memory usage and overall performance. Again, the parameters of the API's can differ. Hence, reading the documentation is a must. For this dataset, \"API\" documentation can be found [here](https://dev.socrata.com/foundry/data.cityofnewyork.us/869v-vr48). \n",
    "\n"
   ]
  },
  {
   "cell_type": "code",
   "execution_count": 4,
   "id": "9127b85b",
   "metadata": {},
   "outputs": [],
   "source": [
    "url = \"https://data.cityofnewyork.us/resource/869v-vr48.json\"\n",
    "params = {\n",
    "    '$select': 'summons_number,issue_date,violation_time,violation_code,vehicle_color,vehicle_body_type,vehicle_make,vehicle_year,unregistered_vehicle,violation_county,registration_state'\n",
    "\n",
    "    '$limit': 100000,\n",
    "    '$offset': 0  \n",
    "}\n",
    "\n",
    "all_data = []\n",
    "\n",
    "while True:\n",
    "    response = requests.get(url, params=params)\n",
    "    \n",
    "    try:\n",
    "        response.raise_for_status()\n",
    "        data = response.json()\n",
    "        if not data:\n",
    "            break  \n",
    "        all_data.extend(data)\n",
    "        params['$offset'] += len(data)\n",
    "    except requests.exceptions.HTTPError as error1:\n",
    "        print(f\"HTTP Error: {error1}\")\n",
    "        break\n",
    "    except requests.exceptions.ConnectionError as error2:\n",
    "        print(f\"Error Connecting: {error2}\")\n",
    "        break\n",
    "    except requests.exceptions.Timeout as error3:\n",
    "        print(f\"Timeout Error: {error3}\")\n",
    "        break\n",
    "    except requests.exceptions.RequestException as error4:\n",
    "        print(f\"An error occurred: {error4}\")\n",
    "        break\n",
    "    except Exception as e:\n",
    "        print(f\"An unexpected error occurred: {e}\")\n",
    "        break\n",
    "\n",
    "raw_dataset = pd.DataFrame(all_data)\n"
   ]
  },
  {
   "cell_type": "code",
   "execution_count": 5,
   "id": "e7b7f91e",
   "metadata": {},
   "outputs": [
    {
     "data": {
      "text/html": [
       "<div>\n",
       "<style scoped>\n",
       "    .dataframe tbody tr th:only-of-type {\n",
       "        vertical-align: middle;\n",
       "    }\n",
       "\n",
       "    .dataframe tbody tr th {\n",
       "        vertical-align: top;\n",
       "    }\n",
       "\n",
       "    .dataframe thead th {\n",
       "        text-align: right;\n",
       "    }\n",
       "</style>\n",
       "<table border=\"1\" class=\"dataframe\">\n",
       "  <thead>\n",
       "    <tr style=\"text-align: right;\">\n",
       "      <th></th>\n",
       "      <th>summons_number</th>\n",
       "      <th>issue_date</th>\n",
       "      <th>violation_time</th>\n",
       "      <th>violation_code</th>\n",
       "      <th>vehicle_color</th>\n",
       "      <th>vehicle_body_type</th>\n",
       "      <th>vehicle_make</th>\n",
       "      <th>vehicle_year</th>\n",
       "      <th>unregistered_vehicle</th>\n",
       "      <th>violation_county</th>\n",
       "      <th>registration_state</th>\n",
       "    </tr>\n",
       "  </thead>\n",
       "  <tbody>\n",
       "    <tr>\n",
       "      <th>0</th>\n",
       "      <td>1484697303</td>\n",
       "      <td>2022-06-10T00:00:00.000</td>\n",
       "      <td>1037A</td>\n",
       "      <td>67</td>\n",
       "      <td>BLK</td>\n",
       "      <td>SDN</td>\n",
       "      <td>TOYOT</td>\n",
       "      <td>2004</td>\n",
       "      <td>0</td>\n",
       "      <td>NY</td>\n",
       "      <td>NY</td>\n",
       "    </tr>\n",
       "    <tr>\n",
       "      <th>1</th>\n",
       "      <td>1484697315</td>\n",
       "      <td>2022-06-13T00:00:00.000</td>\n",
       "      <td>1045A</td>\n",
       "      <td>51</td>\n",
       "      <td>GRAY</td>\n",
       "      <td>SUBN</td>\n",
       "      <td>JEEP</td>\n",
       "      <td>2017</td>\n",
       "      <td>0</td>\n",
       "      <td>NY</td>\n",
       "      <td>NY</td>\n",
       "    </tr>\n",
       "    <tr>\n",
       "      <th>2</th>\n",
       "      <td>1484697625</td>\n",
       "      <td>2022-06-19T00:00:00.000</td>\n",
       "      <td>1116A</td>\n",
       "      <td>63</td>\n",
       "      <td>GRAY</td>\n",
       "      <td>SDN</td>\n",
       "      <td>JEEP</td>\n",
       "      <td>0</td>\n",
       "      <td>0</td>\n",
       "      <td>NY</td>\n",
       "      <td>NJ</td>\n",
       "    </tr>\n",
       "    <tr>\n",
       "      <th>3</th>\n",
       "      <td>1484697674</td>\n",
       "      <td>2022-06-19T00:00:00.000</td>\n",
       "      <td>1052A</td>\n",
       "      <td>63</td>\n",
       "      <td>NaN</td>\n",
       "      <td>SUBN</td>\n",
       "      <td>LEXUS</td>\n",
       "      <td>0</td>\n",
       "      <td>0</td>\n",
       "      <td>NY</td>\n",
       "      <td>NY</td>\n",
       "    </tr>\n",
       "    <tr>\n",
       "      <th>4</th>\n",
       "      <td>1484697686</td>\n",
       "      <td>2022-06-19T00:00:00.000</td>\n",
       "      <td>1107A</td>\n",
       "      <td>63</td>\n",
       "      <td>BLUE</td>\n",
       "      <td>SDN</td>\n",
       "      <td>HYUND</td>\n",
       "      <td>0</td>\n",
       "      <td>0</td>\n",
       "      <td>NY</td>\n",
       "      <td>NJ</td>\n",
       "    </tr>\n",
       "    <tr>\n",
       "      <th>...</th>\n",
       "      <td>...</td>\n",
       "      <td>...</td>\n",
       "      <td>...</td>\n",
       "      <td>...</td>\n",
       "      <td>...</td>\n",
       "      <td>...</td>\n",
       "      <td>...</td>\n",
       "      <td>...</td>\n",
       "      <td>...</td>\n",
       "      <td>...</td>\n",
       "      <td>...</td>\n",
       "    </tr>\n",
       "    <tr>\n",
       "      <th>21563253</th>\n",
       "      <td>9081757568</td>\n",
       "      <td>2023-09-26T00:00:00.000</td>\n",
       "      <td>1207P</td>\n",
       "      <td>21</td>\n",
       "      <td>GY</td>\n",
       "      <td>SUBN</td>\n",
       "      <td>SUBAR</td>\n",
       "      <td>2021</td>\n",
       "      <td>NaN</td>\n",
       "      <td>NY</td>\n",
       "      <td>NY</td>\n",
       "    </tr>\n",
       "    <tr>\n",
       "      <th>21563254</th>\n",
       "      <td>9081822305</td>\n",
       "      <td>2023-09-22T00:00:00.000</td>\n",
       "      <td>0354P</td>\n",
       "      <td>20</td>\n",
       "      <td>BK</td>\n",
       "      <td>SUBN</td>\n",
       "      <td>JEEP</td>\n",
       "      <td>2016</td>\n",
       "      <td>NaN</td>\n",
       "      <td>BX</td>\n",
       "      <td>NY</td>\n",
       "    </tr>\n",
       "    <tr>\n",
       "      <th>21563255</th>\n",
       "      <td>9081860008</td>\n",
       "      <td>2023-09-16T00:00:00.000</td>\n",
       "      <td>1231P</td>\n",
       "      <td>40</td>\n",
       "      <td>GY</td>\n",
       "      <td>4DSD</td>\n",
       "      <td>INFIN</td>\n",
       "      <td>2021</td>\n",
       "      <td>NaN</td>\n",
       "      <td>K</td>\n",
       "      <td>NY</td>\n",
       "    </tr>\n",
       "    <tr>\n",
       "      <th>21563256</th>\n",
       "      <td>9081880056</td>\n",
       "      <td>2023-09-26T00:00:00.000</td>\n",
       "      <td>1015A</td>\n",
       "      <td>21</td>\n",
       "      <td>WH</td>\n",
       "      <td>4DSD</td>\n",
       "      <td>CADIL</td>\n",
       "      <td>2014</td>\n",
       "      <td>NaN</td>\n",
       "      <td>K</td>\n",
       "      <td>NY</td>\n",
       "    </tr>\n",
       "    <tr>\n",
       "      <th>21563257</th>\n",
       "      <td>9081036233</td>\n",
       "      <td>2023-09-25T00:00:00.000</td>\n",
       "      <td>1145A</td>\n",
       "      <td>38</td>\n",
       "      <td>BK</td>\n",
       "      <td>4DSD</td>\n",
       "      <td>LEXUS</td>\n",
       "      <td>2023</td>\n",
       "      <td>NaN</td>\n",
       "      <td>Q</td>\n",
       "      <td>NY</td>\n",
       "    </tr>\n",
       "  </tbody>\n",
       "</table>\n",
       "<p>21563258 rows × 11 columns</p>\n",
       "</div>"
      ],
      "text/plain": [
       "         summons_number               issue_date violation_time  \\\n",
       "0            1484697303  2022-06-10T00:00:00.000          1037A   \n",
       "1            1484697315  2022-06-13T00:00:00.000          1045A   \n",
       "2            1484697625  2022-06-19T00:00:00.000          1116A   \n",
       "3            1484697674  2022-06-19T00:00:00.000          1052A   \n",
       "4            1484697686  2022-06-19T00:00:00.000          1107A   \n",
       "...                 ...                      ...            ...   \n",
       "21563253     9081757568  2023-09-26T00:00:00.000          1207P   \n",
       "21563254     9081822305  2023-09-22T00:00:00.000          0354P   \n",
       "21563255     9081860008  2023-09-16T00:00:00.000          1231P   \n",
       "21563256     9081880056  2023-09-26T00:00:00.000          1015A   \n",
       "21563257     9081036233  2023-09-25T00:00:00.000          1145A   \n",
       "\n",
       "         violation_code vehicle_color vehicle_body_type vehicle_make  \\\n",
       "0                    67           BLK               SDN        TOYOT   \n",
       "1                    51          GRAY              SUBN         JEEP   \n",
       "2                    63          GRAY               SDN         JEEP   \n",
       "3                    63           NaN              SUBN        LEXUS   \n",
       "4                    63          BLUE               SDN        HYUND   \n",
       "...                 ...           ...               ...          ...   \n",
       "21563253             21            GY              SUBN        SUBAR   \n",
       "21563254             20            BK              SUBN         JEEP   \n",
       "21563255             40            GY              4DSD        INFIN   \n",
       "21563256             21            WH              4DSD        CADIL   \n",
       "21563257             38            BK              4DSD        LEXUS   \n",
       "\n",
       "         vehicle_year unregistered_vehicle violation_county registration_state  \n",
       "0                2004                    0               NY                 NY  \n",
       "1                2017                    0               NY                 NY  \n",
       "2                   0                    0               NY                 NJ  \n",
       "3                   0                    0               NY                 NY  \n",
       "4                   0                    0               NY                 NJ  \n",
       "...               ...                  ...              ...                ...  \n",
       "21563253         2021                  NaN               NY                 NY  \n",
       "21563254         2016                  NaN               BX                 NY  \n",
       "21563255         2021                  NaN                K                 NY  \n",
       "21563256         2014                  NaN                K                 NY  \n",
       "21563257         2023                  NaN                Q                 NY  \n",
       "\n",
       "[21563258 rows x 11 columns]"
      ]
     },
     "execution_count": 5,
     "metadata": {},
     "output_type": "execute_result"
    }
   ],
   "source": [
    "raw_dataset"
   ]
  },
  {
   "cell_type": "code",
   "execution_count": 6,
   "id": "2961ac47",
   "metadata": {},
   "outputs": [],
   "source": [
    "raw_dataset.to_csv('C:\\\\EREN\\\\Datasets\\\\NYC_raw_data.csv')"
   ]
  },
  {
   "cell_type": "code",
   "execution_count": 7,
   "id": "2a3a3d7f",
   "metadata": {},
   "outputs": [],
   "source": [
    "raw_dataset.to_parquet('C:\\\\EREN\\\\Datasets\\\\NYC_raw_data.parquet')"
   ]
  },
  {
   "cell_type": "code",
   "execution_count": 46,
   "id": "79113b68",
   "metadata": {},
   "outputs": [],
   "source": [
    "raw_dataset=pd.read_csv('C:\\\\EREN\\\\Datasets\\\\NYC_raw_data.csv')"
   ]
  },
  {
   "cell_type": "code",
   "execution_count": 47,
   "id": "7bf7ae87",
   "metadata": {},
   "outputs": [
    {
     "name": "stdout",
     "output_type": "stream",
     "text": [
      "<class 'pandas.core.frame.DataFrame'>\n",
      "RangeIndex: 21563258 entries, 0 to 21563257\n",
      "Data columns (total 12 columns):\n",
      " #   Column                Dtype  \n",
      "---  ------                -----  \n",
      " 0   Unnamed: 0            int64  \n",
      " 1   summons_number        int64  \n",
      " 2   issue_date            object \n",
      " 3   violation_time        object \n",
      " 4   violation_code        int64  \n",
      " 5   vehicle_color         object \n",
      " 6   vehicle_body_type     object \n",
      " 7   vehicle_make          object \n",
      " 8   vehicle_year          int64  \n",
      " 9   unregistered_vehicle  float64\n",
      " 10  violation_county      object \n",
      " 11  registration_state    object \n",
      "dtypes: float64(1), int64(4), object(7)\n",
      "memory usage: 1.9+ GB\n"
     ]
    }
   ],
   "source": [
    "raw_dataset.info()"
   ]
  },
  {
   "cell_type": "markdown",
   "id": "cdf31c5b",
   "metadata": {},
   "source": [
    "## Cleaning the Data"
   ]
  },
  {
   "cell_type": "markdown",
   "id": "0e2f2599",
   "metadata": {},
   "source": [
    "### The Date"
   ]
  },
  {
   "cell_type": "code",
   "execution_count": 48,
   "id": "d98adeb3",
   "metadata": {},
   "outputs": [
    {
     "data": {
      "text/plain": [
       "0           2022-06-10T00:00:00.000\n",
       "1           2022-06-13T00:00:00.000\n",
       "2           2022-06-19T00:00:00.000\n",
       "3           2022-06-19T00:00:00.000\n",
       "4           2022-06-19T00:00:00.000\n",
       "                     ...           \n",
       "21563253    2023-09-26T00:00:00.000\n",
       "21563254    2023-09-22T00:00:00.000\n",
       "21563255    2023-09-16T00:00:00.000\n",
       "21563256    2023-09-26T00:00:00.000\n",
       "21563257    2023-09-25T00:00:00.000\n",
       "Name: issue_date, Length: 21563258, dtype: object"
      ]
     },
     "execution_count": 48,
     "metadata": {},
     "output_type": "execute_result"
    }
   ],
   "source": [
    "raw_dataset[\"issue_date\"]"
   ]
  },
  {
   "cell_type": "markdown",
   "id": "c6e744a3",
   "metadata": {},
   "source": [
    "I will convert the column to date format in order to perform operations easily."
   ]
  },
  {
   "cell_type": "code",
   "execution_count": 49,
   "id": "a350ebcb",
   "metadata": {},
   "outputs": [],
   "source": [
    "raw_dataset['issue_date'] = pd.to_datetime(raw_dataset['issue_date'])"
   ]
  },
  {
   "cell_type": "code",
   "execution_count": 50,
   "id": "e657763b",
   "metadata": {},
   "outputs": [
    {
     "data": {
      "text/plain": [
       "0          2022-06-10\n",
       "1          2022-06-13\n",
       "2          2022-06-19\n",
       "3          2022-06-19\n",
       "4          2022-06-19\n",
       "              ...    \n",
       "21563253   2023-09-26\n",
       "21563254   2023-09-22\n",
       "21563255   2023-09-16\n",
       "21563256   2023-09-26\n",
       "21563257   2023-09-25\n",
       "Name: issue_date, Length: 21563258, dtype: datetime64[ns]"
      ]
     },
     "execution_count": 50,
     "metadata": {},
     "output_type": "execute_result"
    }
   ],
   "source": [
    "raw_dataset[\"issue_date\"]"
   ]
  },
  {
   "cell_type": "markdown",
   "id": "001edd32",
   "metadata": {},
   "source": [
    "As indicated in the documentation, this dataset provides data on \"Parking Violations\" issued between July 1, 2022 to June 30, 2023. However, I noticed that it also includes some datas before and after these dates. I wanted to solely focus on the data mentioned on the documentation. Hence, I will delete the rest."
   ]
  },
  {
   "cell_type": "code",
   "execution_count": 51,
   "id": "d33c285d",
   "metadata": {},
   "outputs": [],
   "source": [
    "raw_dataset = raw_dataset[(raw_dataset[\"issue_date\"] >= \"2022-07-01\") & (raw_dataset[\"issue_date\"] <= \"2023-06-30\")]\n",
    "\n"
   ]
  },
  {
   "cell_type": "code",
   "execution_count": 52,
   "id": "e96cd17b",
   "metadata": {},
   "outputs": [],
   "source": [
    "raw_dataset.reset_index(drop=True, inplace=True)"
   ]
  },
  {
   "cell_type": "code",
   "execution_count": 53,
   "id": "11e255f7",
   "metadata": {},
   "outputs": [
    {
     "name": "stdout",
     "output_type": "stream",
     "text": [
      "<class 'pandas.core.frame.DataFrame'>\n",
      "RangeIndex: 17245270 entries, 0 to 17245269\n",
      "Data columns (total 12 columns):\n",
      " #   Column                Dtype         \n",
      "---  ------                -----         \n",
      " 0   Unnamed: 0            int64         \n",
      " 1   summons_number        int64         \n",
      " 2   issue_date            datetime64[ns]\n",
      " 3   violation_time        object        \n",
      " 4   violation_code        int64         \n",
      " 5   vehicle_color         object        \n",
      " 6   vehicle_body_type     object        \n",
      " 7   vehicle_make          object        \n",
      " 8   vehicle_year          int64         \n",
      " 9   unregistered_vehicle  float64       \n",
      " 10  violation_county      object        \n",
      " 11  registration_state    object        \n",
      "dtypes: datetime64[ns](1), float64(1), int64(4), object(6)\n",
      "memory usage: 1.5+ GB\n"
     ]
    }
   ],
   "source": [
    "raw_dataset.info()"
   ]
  },
  {
   "cell_type": "markdown",
   "id": "35f47fe9",
   "metadata": {},
   "source": [
    "It looks better now. I move on to the next."
   ]
  },
  {
   "cell_type": "markdown",
   "id": "c6720f13",
   "metadata": {},
   "source": [
    "### The Hour "
   ]
  },
  {
   "cell_type": "markdown",
   "id": "f0eae0fc",
   "metadata": {},
   "source": [
    "I will start the hour column. One of the first things that I want to see is the hourly trend of parking tickets. Hence, it is an important task for me to clean it enough to be able to perform my analysis."
   ]
  },
  {
   "cell_type": "code",
   "execution_count": 54,
   "id": "26f86e1e",
   "metadata": {
    "scrolled": true
   },
   "outputs": [
    {
     "data": {
      "text/plain": [
       "0           1102A\n",
       "1           1132A\n",
       "2           1135A\n",
       "3           0235P\n",
       "4           0156P\n",
       "            ...  \n",
       "17245265    1022P\n",
       "17245266    0300A\n",
       "17245267    0639P\n",
       "17245268    0220A\n",
       "17245269    0205A\n",
       "Name: violation_time, Length: 17245270, dtype: object"
      ]
     },
     "execution_count": 54,
     "metadata": {},
     "output_type": "execute_result"
    }
   ],
   "source": [
    "raw_dataset[\"violation_time\"]"
   ]
  },
  {
   "cell_type": "markdown",
   "id": "c1b1e015",
   "metadata": {},
   "source": [
    "There are several things that I want to do with this column. Firstly, I want to turn all these values to 24h system. Then, I will change the datatype.  \n",
    "\n",
    "Before I move on, I want to see how many missing data points I have."
   ]
  },
  {
   "cell_type": "code",
   "execution_count": 55,
   "id": "349c5714",
   "metadata": {},
   "outputs": [
    {
     "data": {
      "text/html": [
       "<div>\n",
       "<style scoped>\n",
       "    .dataframe tbody tr th:only-of-type {\n",
       "        vertical-align: middle;\n",
       "    }\n",
       "\n",
       "    .dataframe tbody tr th {\n",
       "        vertical-align: top;\n",
       "    }\n",
       "\n",
       "    .dataframe thead th {\n",
       "        text-align: right;\n",
       "    }\n",
       "</style>\n",
       "<table border=\"1\" class=\"dataframe\">\n",
       "  <thead>\n",
       "    <tr style=\"text-align: right;\">\n",
       "      <th></th>\n",
       "      <th>Unnamed: 0</th>\n",
       "      <th>summons_number</th>\n",
       "      <th>issue_date</th>\n",
       "      <th>violation_time</th>\n",
       "      <th>violation_code</th>\n",
       "      <th>vehicle_color</th>\n",
       "      <th>vehicle_body_type</th>\n",
       "      <th>vehicle_make</th>\n",
       "      <th>vehicle_year</th>\n",
       "      <th>unregistered_vehicle</th>\n",
       "      <th>violation_county</th>\n",
       "      <th>registration_state</th>\n",
       "    </tr>\n",
       "  </thead>\n",
       "  <tbody>\n",
       "    <tr>\n",
       "      <th>338</th>\n",
       "      <td>1208</td>\n",
       "      <td>1471587850</td>\n",
       "      <td>2022-07-04</td>\n",
       "      <td>NaN</td>\n",
       "      <td>20</td>\n",
       "      <td>GY</td>\n",
       "      <td>SDN</td>\n",
       "      <td>HYUND</td>\n",
       "      <td>2020</td>\n",
       "      <td>0.0</td>\n",
       "      <td>Q</td>\n",
       "      <td>NY</td>\n",
       "    </tr>\n",
       "    <tr>\n",
       "      <th>2577</th>\n",
       "      <td>8818</td>\n",
       "      <td>1487702670</td>\n",
       "      <td>2022-07-07</td>\n",
       "      <td>NaN</td>\n",
       "      <td>40</td>\n",
       "      <td>BLK</td>\n",
       "      <td>SUBN</td>\n",
       "      <td>ACURA</td>\n",
       "      <td>0</td>\n",
       "      <td>0.0</td>\n",
       "      <td>Q</td>\n",
       "      <td>PA</td>\n",
       "    </tr>\n",
       "    <tr>\n",
       "      <th>300261</th>\n",
       "      <td>399340</td>\n",
       "      <td>1487614482</td>\n",
       "      <td>2022-07-14</td>\n",
       "      <td>NaN</td>\n",
       "      <td>78</td>\n",
       "      <td>WH</td>\n",
       "      <td>VAN</td>\n",
       "      <td>ISUZU</td>\n",
       "      <td>0</td>\n",
       "      <td>0.0</td>\n",
       "      <td>Q</td>\n",
       "      <td>NJ</td>\n",
       "    </tr>\n",
       "    <tr>\n",
       "      <th>328072</th>\n",
       "      <td>437035</td>\n",
       "      <td>1487881447</td>\n",
       "      <td>2022-07-02</td>\n",
       "      <td>NaN</td>\n",
       "      <td>74</td>\n",
       "      <td>BLK</td>\n",
       "      <td>NaN</td>\n",
       "      <td>BMW</td>\n",
       "      <td>0</td>\n",
       "      <td>0.0</td>\n",
       "      <td>NaN</td>\n",
       "      <td>99</td>\n",
       "    </tr>\n",
       "    <tr>\n",
       "      <th>995193</th>\n",
       "      <td>1299436</td>\n",
       "      <td>1485279677</td>\n",
       "      <td>2022-08-03</td>\n",
       "      <td>NaN</td>\n",
       "      <td>21</td>\n",
       "      <td>GRAY</td>\n",
       "      <td>P-U</td>\n",
       "      <td>CHEVR</td>\n",
       "      <td>2006</td>\n",
       "      <td>0.0</td>\n",
       "      <td>K</td>\n",
       "      <td>NY</td>\n",
       "    </tr>\n",
       "    <tr>\n",
       "      <th>...</th>\n",
       "      <td>...</td>\n",
       "      <td>...</td>\n",
       "      <td>...</td>\n",
       "      <td>...</td>\n",
       "      <td>...</td>\n",
       "      <td>...</td>\n",
       "      <td>...</td>\n",
       "      <td>...</td>\n",
       "      <td>...</td>\n",
       "      <td>...</td>\n",
       "      <td>...</td>\n",
       "      <td>...</td>\n",
       "    </tr>\n",
       "    <tr>\n",
       "      <th>17087459</th>\n",
       "      <td>17739077</td>\n",
       "      <td>1490352909</td>\n",
       "      <td>2023-06-07</td>\n",
       "      <td>NaN</td>\n",
       "      <td>46</td>\n",
       "      <td>WHT</td>\n",
       "      <td>VAN</td>\n",
       "      <td>FORD</td>\n",
       "      <td>2015</td>\n",
       "      <td>0.0</td>\n",
       "      <td>NaN</td>\n",
       "      <td>NY</td>\n",
       "    </tr>\n",
       "    <tr>\n",
       "      <th>17088190</th>\n",
       "      <td>17740326</td>\n",
       "      <td>1471957809</td>\n",
       "      <td>2023-06-24</td>\n",
       "      <td>NaN</td>\n",
       "      <td>40</td>\n",
       "      <td>BLK</td>\n",
       "      <td>SUBN</td>\n",
       "      <td>LEXUS</td>\n",
       "      <td>2016</td>\n",
       "      <td>0.0</td>\n",
       "      <td>K</td>\n",
       "      <td>NY</td>\n",
       "    </tr>\n",
       "    <tr>\n",
       "      <th>17243613</th>\n",
       "      <td>19143495</td>\n",
       "      <td>1491941078</td>\n",
       "      <td>2023-06-01</td>\n",
       "      <td>NaN</td>\n",
       "      <td>20</td>\n",
       "      <td>NaN</td>\n",
       "      <td>SDN</td>\n",
       "      <td>BMW</td>\n",
       "      <td>0</td>\n",
       "      <td>0.0</td>\n",
       "      <td>NaN</td>\n",
       "      <td>99</td>\n",
       "    </tr>\n",
       "    <tr>\n",
       "      <th>17243745</th>\n",
       "      <td>19147150</td>\n",
       "      <td>1492270880</td>\n",
       "      <td>2023-06-21</td>\n",
       "      <td>NaN</td>\n",
       "      <td>46</td>\n",
       "      <td>BLK</td>\n",
       "      <td>SUBN</td>\n",
       "      <td>KIA</td>\n",
       "      <td>0</td>\n",
       "      <td>0.0</td>\n",
       "      <td>NY</td>\n",
       "      <td>NY</td>\n",
       "    </tr>\n",
       "    <tr>\n",
       "      <th>17244087</th>\n",
       "      <td>19152807</td>\n",
       "      <td>1489538173</td>\n",
       "      <td>2023-06-06</td>\n",
       "      <td>NaN</td>\n",
       "      <td>14</td>\n",
       "      <td>GY</td>\n",
       "      <td>NaN</td>\n",
       "      <td>NaN</td>\n",
       "      <td>0</td>\n",
       "      <td>0.0</td>\n",
       "      <td>Q</td>\n",
       "      <td>MD</td>\n",
       "    </tr>\n",
       "  </tbody>\n",
       "</table>\n",
       "<p>173 rows × 12 columns</p>\n",
       "</div>"
      ],
      "text/plain": [
       "          Unnamed: 0  summons_number issue_date violation_time  \\\n",
       "338             1208      1471587850 2022-07-04            NaN   \n",
       "2577            8818      1487702670 2022-07-07            NaN   \n",
       "300261        399340      1487614482 2022-07-14            NaN   \n",
       "328072        437035      1487881447 2022-07-02            NaN   \n",
       "995193       1299436      1485279677 2022-08-03            NaN   \n",
       "...              ...             ...        ...            ...   \n",
       "17087459    17739077      1490352909 2023-06-07            NaN   \n",
       "17088190    17740326      1471957809 2023-06-24            NaN   \n",
       "17243613    19143495      1491941078 2023-06-01            NaN   \n",
       "17243745    19147150      1492270880 2023-06-21            NaN   \n",
       "17244087    19152807      1489538173 2023-06-06            NaN   \n",
       "\n",
       "          violation_code vehicle_color vehicle_body_type vehicle_make  \\\n",
       "338                   20            GY               SDN        HYUND   \n",
       "2577                  40           BLK              SUBN        ACURA   \n",
       "300261                78            WH               VAN        ISUZU   \n",
       "328072                74           BLK               NaN          BMW   \n",
       "995193                21          GRAY               P-U        CHEVR   \n",
       "...                  ...           ...               ...          ...   \n",
       "17087459              46           WHT               VAN         FORD   \n",
       "17088190              40           BLK              SUBN        LEXUS   \n",
       "17243613              20           NaN               SDN          BMW   \n",
       "17243745              46           BLK              SUBN          KIA   \n",
       "17244087              14            GY               NaN          NaN   \n",
       "\n",
       "          vehicle_year  unregistered_vehicle violation_county  \\\n",
       "338               2020                   0.0                Q   \n",
       "2577                 0                   0.0                Q   \n",
       "300261               0                   0.0                Q   \n",
       "328072               0                   0.0              NaN   \n",
       "995193            2006                   0.0                K   \n",
       "...                ...                   ...              ...   \n",
       "17087459          2015                   0.0              NaN   \n",
       "17088190          2016                   0.0                K   \n",
       "17243613             0                   0.0              NaN   \n",
       "17243745             0                   0.0               NY   \n",
       "17244087             0                   0.0                Q   \n",
       "\n",
       "         registration_state  \n",
       "338                      NY  \n",
       "2577                     PA  \n",
       "300261                   NJ  \n",
       "328072                   99  \n",
       "995193                   NY  \n",
       "...                     ...  \n",
       "17087459                 NY  \n",
       "17088190                 NY  \n",
       "17243613                 99  \n",
       "17243745                 NY  \n",
       "17244087                 MD  \n",
       "\n",
       "[173 rows x 12 columns]"
      ]
     },
     "execution_count": 55,
     "metadata": {},
     "output_type": "execute_result"
    }
   ],
   "source": [
    "raw_dataset[raw_dataset[\"violation_time\"].isnull()]"
   ]
  },
  {
   "cell_type": "markdown",
   "id": "bd35339f",
   "metadata": {},
   "source": [
    "It is quite nice to see that I don't have many. 173 rows out of 21 million is negligible. I will delete them and continue my analysis."
   ]
  },
  {
   "cell_type": "code",
   "execution_count": 56,
   "id": "50551364",
   "metadata": {},
   "outputs": [],
   "source": [
    "raw_dataset.dropna(subset=[\"violation_time\"], inplace=True)"
   ]
  },
  {
   "cell_type": "code",
   "execution_count": 57,
   "id": "e4d9bce8",
   "metadata": {},
   "outputs": [
    {
     "data": {
      "text/plain": [
       "0"
      ]
     },
     "execution_count": 57,
     "metadata": {},
     "output_type": "execute_result"
    }
   ],
   "source": [
    "raw_dataset[\"violation_time\"].isnull().sum()"
   ]
  },
  {
   "cell_type": "markdown",
   "id": "5ae88adb",
   "metadata": {},
   "source": [
    "Now, I will perform the transformation I mentioned. For this, I will define a function first. This function helps me getting rid of PM's and AM's also returning the hour for the earliest hour. \n",
    "\n",
    "For instance, 10.37A will be returned as 10.00 and 09.57P will be returned as 21.00. This will help me with grouping, that is the idea behind.  \n",
    "\n",
    "*** After some inspection, I realised that there were also rows like \"0000P\", \"0034A\" etc. I don't think it is common in US to represent the hour like that but there were many tickets time labeled like this. So I prepared my function to be able to handle all of them.\n",
    "\n",
    "Below, I wanted to show what I was talking about.\n"
   ]
  },
  {
   "cell_type": "code",
   "execution_count": 58,
   "id": "3fe47e89",
   "metadata": {},
   "outputs": [],
   "source": [
    "filtered_rows = raw_dataset[raw_dataset['violation_time'].str.startswith(\"00\")]\n"
   ]
  },
  {
   "cell_type": "code",
   "execution_count": 149,
   "id": "6a35da71",
   "metadata": {},
   "outputs": [
    {
     "data": {
      "text/plain": [
       "violation_county\n",
       "K     22968\n",
       "NY    10101\n",
       "Q      5383\n",
       "BX     4706\n",
       "R       141\n",
       "Name: count, dtype: int64"
      ]
     },
     "execution_count": 149,
     "metadata": {},
     "output_type": "execute_result"
    }
   ],
   "source": [
    "filtered_rows"
   ]
  },
  {
   "cell_type": "markdown",
   "id": "bb4cbd97",
   "metadata": {},
   "source": [
    "Now, I will write the function to perform this transformation."
   ]
  },
  {
   "cell_type": "code",
   "execution_count": 95,
   "id": "48f3309b",
   "metadata": {},
   "outputs": [],
   "source": [
    "def convert_and_round(hour_str):\n",
    "    try:\n",
    "        hour, minute = hour_str[:-1][:2], hour_str[:-1][2:]\n",
    "    \n",
    "        if hour_str[-1] == 'P':\n",
    "            if hour != '12':\n",
    "                hour = str(int(hour) + 12)\n",
    "        elif hour_str[-1] == 'A' and hour == '12':\n",
    "            hour = '00'\n",
    "    \n",
    "        \n",
    "        return f'{hour.zfill(2)}:00'\n",
    "    except ValueError:\n",
    "        return hour_str"
   ]
  },
  {
   "cell_type": "code",
   "execution_count": 94,
   "id": "8669b8b6",
   "metadata": {},
   "outputs": [
    {
     "data": {
      "text/plain": [
       "'12:00'"
      ]
     },
     "execution_count": 94,
     "metadata": {},
     "output_type": "execute_result"
    }
   ],
   "source": [
    "convert_and_round(\"0027P\")"
   ]
  },
  {
   "cell_type": "code",
   "execution_count": 82,
   "id": "0f9cad81",
   "metadata": {},
   "outputs": [
    {
     "data": {
      "text/plain": [
       "'24:00'"
      ]
     },
     "execution_count": 82,
     "metadata": {},
     "output_type": "execute_result"
    }
   ],
   "source": [
    "convert_and_round(\"1220P\")"
   ]
  },
  {
   "cell_type": "code",
   "execution_count": 99,
   "id": "40bbaf44",
   "metadata": {},
   "outputs": [
    {
     "data": {
      "text/plain": [
       "'00:00'"
      ]
     },
     "execution_count": 99,
     "metadata": {},
     "output_type": "execute_result"
    }
   ],
   "source": [
    "convert_and_round(\"0020A\")"
   ]
  },
  {
   "cell_type": "code",
   "execution_count": 100,
   "id": "85ee1f0d",
   "metadata": {},
   "outputs": [
    {
     "data": {
      "text/plain": [
       "'03:00'"
      ]
     },
     "execution_count": 100,
     "metadata": {},
     "output_type": "execute_result"
    }
   ],
   "source": [
    "convert_and_round(\"0320A\")"
   ]
  },
  {
   "cell_type": "markdown",
   "id": "30c0465b",
   "metadata": {},
   "source": [
    "It seems as if it is working perfectly. I will apply it to our dataframe now."
   ]
  },
  {
   "cell_type": "code",
   "execution_count": 96,
   "id": "6661b585",
   "metadata": {},
   "outputs": [],
   "source": [
    "raw_dataset[\"violation_time\"]=raw_dataset[\"violation_time\"].apply(convert_and_round)"
   ]
  },
  {
   "cell_type": "code",
   "execution_count": 101,
   "id": "558ffd69",
   "metadata": {
    "scrolled": true
   },
   "outputs": [
    {
     "data": {
      "text/html": [
       "<div>\n",
       "<style scoped>\n",
       "    .dataframe tbody tr th:only-of-type {\n",
       "        vertical-align: middle;\n",
       "    }\n",
       "\n",
       "    .dataframe tbody tr th {\n",
       "        vertical-align: top;\n",
       "    }\n",
       "\n",
       "    .dataframe thead th {\n",
       "        text-align: right;\n",
       "    }\n",
       "</style>\n",
       "<table border=\"1\" class=\"dataframe\">\n",
       "  <thead>\n",
       "    <tr style=\"text-align: right;\">\n",
       "      <th></th>\n",
       "      <th>Unnamed: 0</th>\n",
       "      <th>summons_number</th>\n",
       "      <th>issue_date</th>\n",
       "      <th>violation_time</th>\n",
       "      <th>violation_code</th>\n",
       "      <th>vehicle_color</th>\n",
       "      <th>vehicle_body_type</th>\n",
       "      <th>vehicle_make</th>\n",
       "      <th>vehicle_year</th>\n",
       "      <th>unregistered_vehicle</th>\n",
       "      <th>violation_county</th>\n",
       "      <th>registration_state</th>\n",
       "    </tr>\n",
       "  </thead>\n",
       "  <tbody>\n",
       "    <tr>\n",
       "      <th>0</th>\n",
       "      <td>12</td>\n",
       "      <td>1484699750</td>\n",
       "      <td>2023-06-19</td>\n",
       "      <td>11:00</td>\n",
       "      <td>63</td>\n",
       "      <td>WHT</td>\n",
       "      <td>SUBN</td>\n",
       "      <td>CHEVR</td>\n",
       "      <td>2010</td>\n",
       "      <td>0.0</td>\n",
       "      <td>NY</td>\n",
       "      <td>NY</td>\n",
       "    </tr>\n",
       "    <tr>\n",
       "      <th>1</th>\n",
       "      <td>16</td>\n",
       "      <td>1484720581</td>\n",
       "      <td>2022-07-03</td>\n",
       "      <td>11:00</td>\n",
       "      <td>68</td>\n",
       "      <td>WHT</td>\n",
       "      <td>VAN</td>\n",
       "      <td>CHRYS</td>\n",
       "      <td>0</td>\n",
       "      <td>0.0</td>\n",
       "      <td>R</td>\n",
       "      <td>FL</td>\n",
       "    </tr>\n",
       "    <tr>\n",
       "      <th>2</th>\n",
       "      <td>17</td>\n",
       "      <td>1484720600</td>\n",
       "      <td>2022-07-03</td>\n",
       "      <td>11:00</td>\n",
       "      <td>68</td>\n",
       "      <td>WHT</td>\n",
       "      <td>SUBN</td>\n",
       "      <td>CHEVR</td>\n",
       "      <td>0</td>\n",
       "      <td>0.0</td>\n",
       "      <td>R</td>\n",
       "      <td>NJ</td>\n",
       "    </tr>\n",
       "    <tr>\n",
       "      <th>3</th>\n",
       "      <td>20</td>\n",
       "      <td>1484721329</td>\n",
       "      <td>2022-07-04</td>\n",
       "      <td>14:00</td>\n",
       "      <td>20</td>\n",
       "      <td>GL</td>\n",
       "      <td>SUBN</td>\n",
       "      <td>SUBAR</td>\n",
       "      <td>2016</td>\n",
       "      <td>0.0</td>\n",
       "      <td>R</td>\n",
       "      <td>NY</td>\n",
       "    </tr>\n",
       "    <tr>\n",
       "      <th>4</th>\n",
       "      <td>21</td>\n",
       "      <td>1484721330</td>\n",
       "      <td>2022-07-04</td>\n",
       "      <td>13:00</td>\n",
       "      <td>20</td>\n",
       "      <td>WHITE</td>\n",
       "      <td>SUBN</td>\n",
       "      <td>ME/BE</td>\n",
       "      <td>2019</td>\n",
       "      <td>0.0</td>\n",
       "      <td>R</td>\n",
       "      <td>NY</td>\n",
       "    </tr>\n",
       "    <tr>\n",
       "      <th>...</th>\n",
       "      <td>...</td>\n",
       "      <td>...</td>\n",
       "      <td>...</td>\n",
       "      <td>...</td>\n",
       "      <td>...</td>\n",
       "      <td>...</td>\n",
       "      <td>...</td>\n",
       "      <td>...</td>\n",
       "      <td>...</td>\n",
       "      <td>...</td>\n",
       "      <td>...</td>\n",
       "      <td>...</td>\n",
       "    </tr>\n",
       "    <tr>\n",
       "      <th>17245265</th>\n",
       "      <td>21165497</td>\n",
       "      <td>1492958694</td>\n",
       "      <td>2022-08-26</td>\n",
       "      <td>22:00</td>\n",
       "      <td>99</td>\n",
       "      <td>BLU</td>\n",
       "      <td>SDN</td>\n",
       "      <td>HONDA</td>\n",
       "      <td>2007</td>\n",
       "      <td>0.0</td>\n",
       "      <td>Q</td>\n",
       "      <td>PA</td>\n",
       "    </tr>\n",
       "    <tr>\n",
       "      <th>17245266</th>\n",
       "      <td>21165528</td>\n",
       "      <td>1492976532</td>\n",
       "      <td>2023-06-04</td>\n",
       "      <td>03:00</td>\n",
       "      <td>51</td>\n",
       "      <td>BLUE</td>\n",
       "      <td>SUBN</td>\n",
       "      <td>JEEP</td>\n",
       "      <td>0</td>\n",
       "      <td>0.0</td>\n",
       "      <td>Q</td>\n",
       "      <td>NY</td>\n",
       "    </tr>\n",
       "    <tr>\n",
       "      <th>17245267</th>\n",
       "      <td>21166959</td>\n",
       "      <td>1487347315</td>\n",
       "      <td>2023-06-04</td>\n",
       "      <td>18:00</td>\n",
       "      <td>46</td>\n",
       "      <td>NaN</td>\n",
       "      <td>SUBN</td>\n",
       "      <td>CHRYS</td>\n",
       "      <td>0</td>\n",
       "      <td>0.0</td>\n",
       "      <td>NaN</td>\n",
       "      <td>NY</td>\n",
       "    </tr>\n",
       "    <tr>\n",
       "      <th>17245268</th>\n",
       "      <td>21168681</td>\n",
       "      <td>1488236902</td>\n",
       "      <td>2022-11-19</td>\n",
       "      <td>02:00</td>\n",
       "      <td>98</td>\n",
       "      <td>BLK</td>\n",
       "      <td>SUBN</td>\n",
       "      <td>CHEVR</td>\n",
       "      <td>2022</td>\n",
       "      <td>0.0</td>\n",
       "      <td>K</td>\n",
       "      <td>NY</td>\n",
       "    </tr>\n",
       "    <tr>\n",
       "      <th>17245269</th>\n",
       "      <td>21170406</td>\n",
       "      <td>1488921787</td>\n",
       "      <td>2023-02-08</td>\n",
       "      <td>02:00</td>\n",
       "      <td>46</td>\n",
       "      <td>WH</td>\n",
       "      <td>SDN</td>\n",
       "      <td>TESLA</td>\n",
       "      <td>2023</td>\n",
       "      <td>0.0</td>\n",
       "      <td>Q</td>\n",
       "      <td>PA</td>\n",
       "    </tr>\n",
       "  </tbody>\n",
       "</table>\n",
       "<p>17245097 rows × 12 columns</p>\n",
       "</div>"
      ],
      "text/plain": [
       "          Unnamed: 0  summons_number issue_date violation_time  \\\n",
       "0                 12      1484699750 2023-06-19          11:00   \n",
       "1                 16      1484720581 2022-07-03          11:00   \n",
       "2                 17      1484720600 2022-07-03          11:00   \n",
       "3                 20      1484721329 2022-07-04          14:00   \n",
       "4                 21      1484721330 2022-07-04          13:00   \n",
       "...              ...             ...        ...            ...   \n",
       "17245265    21165497      1492958694 2022-08-26          22:00   \n",
       "17245266    21165528      1492976532 2023-06-04          03:00   \n",
       "17245267    21166959      1487347315 2023-06-04          18:00   \n",
       "17245268    21168681      1488236902 2022-11-19          02:00   \n",
       "17245269    21170406      1488921787 2023-02-08          02:00   \n",
       "\n",
       "          violation_code vehicle_color vehicle_body_type vehicle_make  \\\n",
       "0                     63           WHT              SUBN        CHEVR   \n",
       "1                     68           WHT               VAN        CHRYS   \n",
       "2                     68           WHT              SUBN        CHEVR   \n",
       "3                     20            GL              SUBN        SUBAR   \n",
       "4                     20         WHITE              SUBN        ME/BE   \n",
       "...                  ...           ...               ...          ...   \n",
       "17245265              99           BLU               SDN        HONDA   \n",
       "17245266              51          BLUE              SUBN         JEEP   \n",
       "17245267              46           NaN              SUBN        CHRYS   \n",
       "17245268              98           BLK              SUBN        CHEVR   \n",
       "17245269              46            WH               SDN        TESLA   \n",
       "\n",
       "          vehicle_year  unregistered_vehicle violation_county  \\\n",
       "0                 2010                   0.0               NY   \n",
       "1                    0                   0.0                R   \n",
       "2                    0                   0.0                R   \n",
       "3                 2016                   0.0                R   \n",
       "4                 2019                   0.0                R   \n",
       "...                ...                   ...              ...   \n",
       "17245265          2007                   0.0                Q   \n",
       "17245266             0                   0.0                Q   \n",
       "17245267             0                   0.0              NaN   \n",
       "17245268          2022                   0.0                K   \n",
       "17245269          2023                   0.0                Q   \n",
       "\n",
       "         registration_state  \n",
       "0                        NY  \n",
       "1                        FL  \n",
       "2                        NJ  \n",
       "3                        NY  \n",
       "4                        NY  \n",
       "...                     ...  \n",
       "17245265                 PA  \n",
       "17245266                 NY  \n",
       "17245267                 NY  \n",
       "17245268                 NY  \n",
       "17245269                 PA  \n",
       "\n",
       "[17245097 rows x 12 columns]"
      ]
     },
     "execution_count": 101,
     "metadata": {},
     "output_type": "execute_result"
    }
   ],
   "source": [
    "raw_dataset"
   ]
  },
  {
   "cell_type": "markdown",
   "id": "5e837a84",
   "metadata": {},
   "source": [
    "I will perform grouping to see if it looks fine."
   ]
  },
  {
   "cell_type": "code",
   "execution_count": 106,
   "id": "3989aab6",
   "metadata": {
    "scrolled": true
   },
   "outputs": [
    {
     "data": {
      "text/plain": [
       "issue_date  violation_time\n",
       "2022-07-01  00:00              426\n",
       "            01:00              533\n",
       "            02:00              407\n",
       "            03:00              245\n",
       "            04:00              149\n",
       "            05:00              457\n",
       "            06:00             2381\n",
       "            07:00             3553\n",
       "            08:00             5999\n",
       "            09:00             5888\n",
       "            10:00             4392\n",
       "            11:00             5729\n",
       "            12:00             5106\n",
       "            13:00             4555\n",
       "            14:00             4614\n",
       "            15:00             3799\n",
       "            16:00             3377\n",
       "            17:00             2897\n",
       "            18:00             2277\n",
       "            19:00             1889\n",
       "            20:00             1707\n",
       "            21:00             1421\n",
       "            22:00              329\n",
       "            23:00              265\n",
       "dtype: int64"
      ]
     },
     "execution_count": 106,
     "metadata": {},
     "output_type": "execute_result"
    }
   ],
   "source": [
    "raw_dataset.groupby([\"issue_date\",\"violation_time\"]).size().sort_index().head(24)"
   ]
  },
  {
   "cell_type": "markdown",
   "id": "289e3081",
   "metadata": {},
   "source": [
    "It looks really good. There are some which are probably wrong imputs and I will drop them."
   ]
  },
  {
   "cell_type": "code",
   "execution_count": 117,
   "id": "1e6c2dbe",
   "metadata": {
    "scrolled": true
   },
   "outputs": [
    {
     "data": {
      "text/plain": [
       "violation_time\n",
       ".1:00          1\n",
       "00:00     280161\n",
       "01:00     270939\n",
       "02:00     212097\n",
       "03:00     181406\n",
       "04:00     169762\n",
       "05:00     259492\n",
       "06:00     540066\n",
       "07:00     952984\n",
       "08:00    1471612\n",
       "09:00    1503656\n",
       "10:00    1223646\n",
       "11:00    1503414\n",
       "12:00    1395900\n",
       "13:00    1346455\n",
       "14:00    1194043\n",
       "15:00     998139\n",
       "16:00     800483\n",
       "17:00     692311\n",
       "18:00     506686\n",
       "19:00     384778\n",
       "20:00     384651\n",
       "21:00     361539\n",
       "22:00     317452\n",
       "23:00     293396\n",
       "25:00          1\n",
       "26:00          1\n",
       "27:00          2\n",
       "28:00          1\n",
       "29:00          1\n",
       "30:00          1\n",
       "31:00          1\n",
       "32:00          1\n",
       "43:00          1\n",
       "45:00          2\n",
       "dtype: int64"
      ]
     },
     "execution_count": 117,
     "metadata": {},
     "output_type": "execute_result"
    }
   ],
   "source": [
    "raw_dataset.groupby(\"violation_time\").size().sort_index().head(35)"
   ]
  },
  {
   "cell_type": "markdown",
   "id": "6fc1847a",
   "metadata": {},
   "source": [
    "I will use regular expressions to remove all the rest. "
   ]
  },
  {
   "cell_type": "code",
   "execution_count": 118,
   "id": "3551f28d",
   "metadata": {},
   "outputs": [],
   "source": [
    "filter1 = raw_dataset[\"violation_time\"].str.match(r'^([01]\\d|2[0-3]):00$')\n",
    "filtered_dataset = raw_dataset[filter1]"
   ]
  },
  {
   "cell_type": "markdown",
   "id": "e18f4a93",
   "metadata": {},
   "source": [
    "Lastly, I want to convert my column datatype to categorical. I also want them to be ordered so I defined \"ordered categories\"."
   ]
  },
  {
   "cell_type": "code",
   "execution_count": 120,
   "id": "4bc594d5",
   "metadata": {},
   "outputs": [
    {
     "name": "stderr",
     "output_type": "stream",
     "text": [
      "C:\\Users\\erent\\AppData\\Local\\Temp\\ipykernel_27176\\1078268269.py:3: SettingWithCopyWarning: \n",
      "A value is trying to be set on a copy of a slice from a DataFrame.\n",
      "Try using .loc[row_indexer,col_indexer] = value instead\n",
      "\n",
      "See the caveats in the documentation: https://pandas.pydata.org/pandas-docs/stable/user_guide/indexing.html#returning-a-view-versus-a-copy\n",
      "  filtered_dataset[\"violation_time\"] = pd.Categorical(filtered_dataset[\"violation_time\"], categories=ordered_categories, ordered=True)\n"
     ]
    }
   ],
   "source": [
    "ordered_categories = ['00:00', '01:00', '02:00', '03:00', '04:00', '05:00', '06:00', '07:00', '08:00', '09:00', '10:00', '11:00', '12:00', '13:00', '14:00', '15:00', '16:00', '17:00', '18:00', '19:00', '20:00', '21:00', '22:00', '23:00']\n",
    "\n",
    "filtered_dataset[\"violation_time\"] = pd.Categorical(filtered_dataset[\"violation_time\"], categories=ordered_categories, ordered=True)"
   ]
  },
  {
   "cell_type": "code",
   "execution_count": 121,
   "id": "58e4ea0d",
   "metadata": {},
   "outputs": [
    {
     "data": {
      "text/plain": [
       "violation_time\n",
       "00:00     280161\n",
       "01:00     270939\n",
       "02:00     212097\n",
       "03:00     181406\n",
       "04:00     169762\n",
       "05:00     259492\n",
       "06:00     540066\n",
       "07:00     952984\n",
       "08:00    1471612\n",
       "09:00    1503656\n",
       "10:00    1223646\n",
       "11:00    1503414\n",
       "12:00    1395900\n",
       "13:00    1346455\n",
       "14:00    1194043\n",
       "15:00     998139\n",
       "16:00     800483\n",
       "17:00     692311\n",
       "18:00     506686\n",
       "19:00     384778\n",
       "20:00     384651\n",
       "21:00     361539\n",
       "22:00     317452\n",
       "23:00     293396\n",
       "dtype: int64"
      ]
     },
     "execution_count": 121,
     "metadata": {},
     "output_type": "execute_result"
    }
   ],
   "source": [
    "filtered_dataset.groupby(\"violation_time\").size()"
   ]
  },
  {
   "cell_type": "markdown",
   "id": "8d3d7189",
   "metadata": {},
   "source": [
    "I believe I am done with this feature as well."
   ]
  },
  {
   "cell_type": "code",
   "execution_count": null,
   "id": "ed1e3d0a",
   "metadata": {},
   "outputs": [],
   "source": []
  },
  {
   "cell_type": "markdown",
   "id": "c2a73c3e",
   "metadata": {},
   "source": [
    "## Initial Analysis"
   ]
  },
  {
   "cell_type": "markdown",
   "id": "dbc78592",
   "metadata": {},
   "source": [
    "Since the date and hour features are cleaned now, I wanted to visualize them to gain some first insight on the data."
   ]
  },
  {
   "cell_type": "markdown",
   "id": "50c9d74d",
   "metadata": {},
   "source": [
    "### Average Count of Parking Violations Each Hour"
   ]
  },
  {
   "cell_type": "code",
   "execution_count": 130,
   "id": "fe7b4d78",
   "metadata": {},
   "outputs": [
    {
     "data": {
      "image/png": "[encoded data removed]",
      "text/plain": [
       "<Figure size 700x400 with 1 Axes>"
      ]
     },
     "metadata": {},
     "output_type": "display_data"
    }
   ],
   "source": [
    "grouped_data = filtered_dataset.groupby([\"issue_date\", \"violation_time\"]).size().groupby(\"violation_time\").mean()\n",
    "\n",
    "\n",
    "fig, ax = plt.subplots(figsize=(7, 4))\n",
    "\n",
    "grouped_data.plot(kind='bar', color='skyblue', edgecolor='black', ax=ax)\n",
    "\n",
    "\n",
    "ax.set_xlabel('Violation Time')\n",
    "ax.set_ylabel('Mean Count')\n",
    "ax.set_title('Average Count of Parking Violations Each Hour')\n",
    "ax.grid(axis='y', linestyle='--', alpha=0.7)\n",
    "\n",
    "plt.xticks(rotation=45, ha='right') \n",
    "plt.tight_layout()\n",
    "\n",
    "plt.show()"
   ]
  },
  {
   "cell_type": "markdown",
   "id": "c9c23822",
   "metadata": {},
   "source": [
    "### Monthly Parking Violations"
   ]
  },
  {
   "cell_type": "code",
   "execution_count": 144,
   "id": "0895e16a",
   "metadata": {},
   "outputs": [],
   "source": [
    "filtered_dataset = filtered_dataset.sort_values(by='issue_date')\n"
   ]
  },
  {
   "cell_type": "code",
   "execution_count": 146,
   "id": "55fd2256",
   "metadata": {},
   "outputs": [
    {
     "data": {
      "image/png": "[encoded data removed]",
      "text/plain": [
       "<Figure size 600x400 with 1 Axes>"
      ]
     },
     "metadata": {},
     "output_type": "display_data"
    }
   ],
   "source": [
    "filtered_dataset['month'] = filtered_dataset['issue_date'].dt.month.apply(lambda x: calendar.month_abbr[x])\n",
    "\n",
    "monthly = filtered_dataset.groupby('month').size()\n",
    "\n",
    "fig, ax = plt.subplots(figsize=(6, 4))\n",
    "\n",
    "monthly.plot(kind='bar', color='skyblue', edgecolor='black', ax=ax)\n",
    "\n",
    "ax.set_xlabel('Month')\n",
    "ax.set_ylabel('Number of Violations')\n",
    "ax.set_title('Monthly Trend of Parking Violations')\n",
    "\n",
    "plt.xticks(rotation=45, ha='right')  \n",
    "plt.tight_layout()\n",
    "\n",
    "plt.show()"
   ]
  },
  {
   "cell_type": "markdown",
   "id": "3ba42bdf",
   "metadata": {},
   "source": [
    "### Violations by County"
   ]
  },
  {
   "cell_type": "code",
   "execution_count": 178,
   "id": "c9bf2567",
   "metadata": {},
   "outputs": [
    {
     "data": {
      "text/plain": [
       "<Axes: xlabel='violation_county'>"
      ]
     },
     "execution_count": 178,
     "metadata": {},
     "output_type": "execute_result"
    },
    {
     "data": {
      "image/png": "[encoded data removed]",
      "text/plain": [
       "<Figure size 600x400 with 1 Axes>"
      ]
     },
     "metadata": {},
     "output_type": "display_data"
    }
   ],
   "source": [
    "filtered_rows[\"violation_county\"].replace({\"K\":\"Brooklyn\",\"NY\":\"Manhattan\",\"Q\":\"Queens\",\"BX\":\"Bronx\",\"R\":\"Staten Island\"}).value_counts().plot(kind=\"bar\",figsize=(6,4))"
   ]
  },
  {
   "cell_type": "markdown",
   "id": "f329a2e2",
   "metadata": {},
   "source": [
    "# trying something- to be deleted"
   ]
  },
  {
   "cell_type": "code",
   "execution_count": 163,
   "id": "230b4826",
   "metadata": {},
   "outputs": [
    {
     "data": {
      "text/html": [
       "<div>\n",
       "<style scoped>\n",
       "    .dataframe tbody tr th:only-of-type {\n",
       "        vertical-align: middle;\n",
       "    }\n",
       "\n",
       "    .dataframe tbody tr th {\n",
       "        vertical-align: top;\n",
       "    }\n",
       "\n",
       "    .dataframe thead th {\n",
       "        text-align: right;\n",
       "    }\n",
       "</style>\n",
       "<table border=\"1\" class=\"dataframe\">\n",
       "  <thead>\n",
       "    <tr style=\"text-align: right;\">\n",
       "      <th></th>\n",
       "      <th>summons_number</th>\n",
       "      <th>plate_id</th>\n",
       "      <th>registration_state</th>\n",
       "      <th>plate_type</th>\n",
       "      <th>issue_date</th>\n",
       "      <th>violation_code</th>\n",
       "      <th>vehicle_body_type</th>\n",
       "      <th>vehicle_make</th>\n",
       "      <th>issuing_agency</th>\n",
       "      <th>street_code1</th>\n",
       "      <th>...</th>\n",
       "      <th>days_parking_in_effect</th>\n",
       "      <th>from_hours_in_effect</th>\n",
       "      <th>to_hours_in_effect</th>\n",
       "      <th>vehicle_color</th>\n",
       "      <th>unregistered_vehicle</th>\n",
       "      <th>vehicle_year</th>\n",
       "      <th>meter_number</th>\n",
       "      <th>feet_from_curb</th>\n",
       "      <th>house_number</th>\n",
       "      <th>time_first_observed</th>\n",
       "    </tr>\n",
       "  </thead>\n",
       "  <tbody>\n",
       "    <tr>\n",
       "      <th>0</th>\n",
       "      <td>1484697303</td>\n",
       "      <td>JER1863</td>\n",
       "      <td>NY</td>\n",
       "      <td>PAS</td>\n",
       "      <td>2022-06-10T00:00:00.000</td>\n",
       "      <td>67</td>\n",
       "      <td>SDN</td>\n",
       "      <td>TOYOT</td>\n",
       "      <td>P</td>\n",
       "      <td>34330</td>\n",
       "      <td>...</td>\n",
       "      <td>BBBBBBB</td>\n",
       "      <td>ALL</td>\n",
       "      <td>ALL</td>\n",
       "      <td>BLK</td>\n",
       "      <td>0</td>\n",
       "      <td>2004</td>\n",
       "      <td>-</td>\n",
       "      <td>0</td>\n",
       "      <td>NaN</td>\n",
       "      <td>NaN</td>\n",
       "    </tr>\n",
       "    <tr>\n",
       "      <th>1</th>\n",
       "      <td>1484697315</td>\n",
       "      <td>KEV4487</td>\n",
       "      <td>NY</td>\n",
       "      <td>PAS</td>\n",
       "      <td>2022-06-13T00:00:00.000</td>\n",
       "      <td>51</td>\n",
       "      <td>SUBN</td>\n",
       "      <td>JEEP</td>\n",
       "      <td>K</td>\n",
       "      <td>34310</td>\n",
       "      <td>...</td>\n",
       "      <td>BBBBBBB</td>\n",
       "      <td>ALL</td>\n",
       "      <td>ALL</td>\n",
       "      <td>GRAY</td>\n",
       "      <td>0</td>\n",
       "      <td>2017</td>\n",
       "      <td>-</td>\n",
       "      <td>0</td>\n",
       "      <td>436</td>\n",
       "      <td>NaN</td>\n",
       "    </tr>\n",
       "    <tr>\n",
       "      <th>2</th>\n",
       "      <td>1484697625</td>\n",
       "      <td>H73NYD</td>\n",
       "      <td>NJ</td>\n",
       "      <td>PAS</td>\n",
       "      <td>2022-06-19T00:00:00.000</td>\n",
       "      <td>63</td>\n",
       "      <td>SDN</td>\n",
       "      <td>JEEP</td>\n",
       "      <td>N</td>\n",
       "      <td>30640</td>\n",
       "      <td>...</td>\n",
       "      <td>BBBBBBB</td>\n",
       "      <td>ALL</td>\n",
       "      <td>ALL</td>\n",
       "      <td>GRAY</td>\n",
       "      <td>0</td>\n",
       "      <td>0</td>\n",
       "      <td>-</td>\n",
       "      <td>0</td>\n",
       "      <td>109</td>\n",
       "      <td>NaN</td>\n",
       "    </tr>\n",
       "    <tr>\n",
       "      <th>3</th>\n",
       "      <td>1484697674</td>\n",
       "      <td>GJC9296</td>\n",
       "      <td>NY</td>\n",
       "      <td>PAS</td>\n",
       "      <td>2022-06-19T00:00:00.000</td>\n",
       "      <td>63</td>\n",
       "      <td>SUBN</td>\n",
       "      <td>LEXUS</td>\n",
       "      <td>N</td>\n",
       "      <td>30640</td>\n",
       "      <td>...</td>\n",
       "      <td>BBBBBBB</td>\n",
       "      <td>ALL</td>\n",
       "      <td>ALL</td>\n",
       "      <td>NaN</td>\n",
       "      <td>0</td>\n",
       "      <td>0</td>\n",
       "      <td>-</td>\n",
       "      <td>0</td>\n",
       "      <td>109</td>\n",
       "      <td>NaN</td>\n",
       "    </tr>\n",
       "    <tr>\n",
       "      <th>4</th>\n",
       "      <td>1484697686</td>\n",
       "      <td>M51PUV</td>\n",
       "      <td>NJ</td>\n",
       "      <td>PAS</td>\n",
       "      <td>2022-06-19T00:00:00.000</td>\n",
       "      <td>63</td>\n",
       "      <td>SDN</td>\n",
       "      <td>HYUND</td>\n",
       "      <td>N</td>\n",
       "      <td>30640</td>\n",
       "      <td>...</td>\n",
       "      <td>BBBBBBB</td>\n",
       "      <td>ALL</td>\n",
       "      <td>ALL</td>\n",
       "      <td>BLUE</td>\n",
       "      <td>0</td>\n",
       "      <td>0</td>\n",
       "      <td>-</td>\n",
       "      <td>0</td>\n",
       "      <td>109</td>\n",
       "      <td>NaN</td>\n",
       "    </tr>\n",
       "  </tbody>\n",
       "</table>\n",
       "<p>5 rows × 37 columns</p>\n",
       "</div>"
      ],
      "text/plain": [
       "  summons_number plate_id registration_state plate_type  \\\n",
       "0     1484697303  JER1863                 NY        PAS   \n",
       "1     1484697315  KEV4487                 NY        PAS   \n",
       "2     1484697625   H73NYD                 NJ        PAS   \n",
       "3     1484697674  GJC9296                 NY        PAS   \n",
       "4     1484697686   M51PUV                 NJ        PAS   \n",
       "\n",
       "                issue_date violation_code vehicle_body_type vehicle_make  \\\n",
       "0  2022-06-10T00:00:00.000             67               SDN        TOYOT   \n",
       "1  2022-06-13T00:00:00.000             51              SUBN         JEEP   \n",
       "2  2022-06-19T00:00:00.000             63               SDN         JEEP   \n",
       "3  2022-06-19T00:00:00.000             63              SUBN        LEXUS   \n",
       "4  2022-06-19T00:00:00.000             63               SDN        HYUND   \n",
       "\n",
       "  issuing_agency street_code1  ... days_parking_in_effect  \\\n",
       "0              P        34330  ...                BBBBBBB   \n",
       "1              K        34310  ...                BBBBBBB   \n",
       "2              N        30640  ...                BBBBBBB   \n",
       "3              N        30640  ...                BBBBBBB   \n",
       "4              N        30640  ...                BBBBBBB   \n",
       "\n",
       "  from_hours_in_effect to_hours_in_effect vehicle_color unregistered_vehicle  \\\n",
       "0                  ALL                ALL           BLK                    0   \n",
       "1                  ALL                ALL          GRAY                    0   \n",
       "2                  ALL                ALL          GRAY                    0   \n",
       "3                  ALL                ALL           NaN                    0   \n",
       "4                  ALL                ALL          BLUE                    0   \n",
       "\n",
       "  vehicle_year meter_number feet_from_curb house_number time_first_observed  \n",
       "0         2004            -              0          NaN                 NaN  \n",
       "1         2017            -              0          436                 NaN  \n",
       "2            0            -              0          109                 NaN  \n",
       "3            0            -              0          109                 NaN  \n",
       "4            0            -              0          109                 NaN  \n",
       "\n",
       "[5 rows x 37 columns]"
      ]
     },
     "execution_count": 163,
     "metadata": {},
     "output_type": "execute_result"
    }
   ],
   "source": [
    "\n",
    "url=\"https://data.cityofnewyork.us/resource/869v-vr48.json\"\n",
    "response=requests.get(url)\n",
    "data=response.json()\n",
    "df=pd.DataFrame(data)\n",
    "df.head()\n"
   ]
  },
  {
   "cell_type": "code",
   "execution_count": 166,
   "id": "24439c06",
   "metadata": {},
   "outputs": [
    {
     "data": {
      "text/plain": [
       "street_code1\n",
       "0        136\n",
       "54580     19\n",
       "30430     18\n",
       "23880     13\n",
       "19010     12\n",
       "        ... \n",
       "38190      1\n",
       "28970      1\n",
       "37468      1\n",
       "38210      1\n",
       "7140       1\n",
       "Name: count, Length: 492, dtype: int64"
      ]
     },
     "execution_count": 166,
     "metadata": {},
     "output_type": "execute_result"
    }
   ],
   "source": [
    "df[\"street_code1\"].value_counts()"
   ]
  },
  {
   "cell_type": "code",
   "execution_count": 168,
   "id": "3288f8c8",
   "metadata": {},
   "outputs": [
    {
     "data": {
      "text/plain": [
       "street_code2\n",
       "0        148\n",
       "40404     73\n",
       "24980     14\n",
       "23800     13\n",
       "12550     12\n",
       "        ... \n",
       "26070      1\n",
       "45020      1\n",
       "14720      1\n",
       "55220      1\n",
       "27990      1\n",
       "Name: count, Length: 455, dtype: int64"
      ]
     },
     "execution_count": 168,
     "metadata": {},
     "output_type": "execute_result"
    }
   ],
   "source": [
    "df[\"street_code2\"].value_counts()"
   ]
  },
  {
   "cell_type": "code",
   "execution_count": 171,
   "id": "6a1fa9f9",
   "metadata": {},
   "outputs": [
    {
     "data": {
      "text/plain": [
       "violation_location\n",
       "45     96\n",
       "69     56\n",
       "110    49\n",
       "114    47\n",
       "23     44\n",
       "       ..\n",
       "99      1\n",
       "64      1\n",
       "28      1\n",
       "119     1\n",
       "174     1\n",
       "Name: count, Length: 75, dtype: int64"
      ]
     },
     "execution_count": 171,
     "metadata": {},
     "output_type": "execute_result"
    }
   ],
   "source": [
    "df[\"violation_location\"].value_counts()"
   ]
  },
  {
   "cell_type": "code",
   "execution_count": null,
   "id": "f8034c2e",
   "metadata": {},
   "outputs": [],
   "source": []
  },
  {
   "cell_type": "code",
   "execution_count": null,
   "id": "406a04d5",
   "metadata": {},
   "outputs": [],
   "source": []
  }
 ],
 "metadata": {
  "kernelspec": {
   "display_name": "Python 3 (ipykernel)",
   "language": "python",
   "name": "python3"
  },
  "language_info": {
   "codemirror_mode": {
    "name": "ipython",
    "version": 3
   },
   "file_extension": ".py",
   "mimetype": "text/x-python",
   "name": "python",
   "nbconvert_exporter": "python",
   "pygments_lexer": "ipython3",
   "version": "3.11.5"
  }
 },
 "nbformat": 4,
 "nbformat_minor": 5
}
